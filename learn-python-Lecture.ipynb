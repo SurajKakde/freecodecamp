{
  "cells": [
    {
      "cell_type": "markdown",
      "metadata": {
        "id": "view-in-github",
        "colab_type": "text"
      },
      "source": [
        "<a href=\"https://colab.research.google.com/github/SurajKakde/freecodecamp/blob/main/learn-python-Lecture.ipynb\" target=\"_parent\"><img src=\"https://colab.research.google.com/assets/colab-badge.svg\" alt=\"Open In Colab\"/></a>"
      ]
    },
    {
      "cell_type": "markdown",
      "metadata": {
        "id": "dr4DNWlQU-12"
      },
      "source": [
        "![rmotr](https://user-images.githubusercontent.com/7065401/52071918-bda15380-2562-11e9-828c-7f95297e4a82.png)\n",
        "<hr style=\"margin-bottom: 40px;\">\n",
        "\n",
        "<img src=\"https://user-images.githubusercontent.com/7065401/55025843-7d99a280-4fe0-11e9-938a-4879d95c4130.png\"\n",
        "    style=\"width:150px; float: right; margin: 0 40px 40px 40px;\"></img>\n",
        "\n",
        "# Python in under 10 minutes\n",
        "\n",
        "Ok, so this will techincally take us more than 10 minutes, but you get the idea: this is a very high level overview of the Python programming language. Specially for those of you that already know some other programming language (R, Javascript, Ruby, etc) and want to do the switch to Python.\n",
        "\n",
        "![purple-divider](https://user-images.githubusercontent.com/7065401/52071927-c1cd7100-2562-11e9-908a-dde91ba14e59.png)"
      ]
    },
    {
      "cell_type": "markdown",
      "metadata": {
        "id": "YPCX4JhoU-16"
      },
      "source": [
        "### The high level\n",
        "\n",
        "[Python](https://en.wikipedia.org/wiki/Python_%28programming_language%29) is a interpreted, high level programming language created by Dutch programmer [Guido van Rossum](https://en.wikipedia.org/wiki/Guido_van_Rossum) and released in 1991.\n",
        "\n",
        "As I always say, Python *is old*. It gained a lot of traction around 2006, with its popularity being driven its beauty and simplicity to do Web Development (its main Web Development Framework, [Django](https://www.djangoproject.com/), was released in 2006). From there, it took off as one of the most popular scripting languages.\n",
        "\n",
        "Python is multi-paradigm: you can write code using Object Oriented, Functional and/or Imperative programming. Python is interpreted and uses a dynamic type system, although considered _strongly typed_.\n",
        "\n",
        "It has an extensive builtin standard library with features that ranges from time management, to http servers, concurrency and async programming.\n",
        "\n",
        "Python is Open Source and is managed by a non-profit organization: the [Python Software Foundation](https://en.wikipedia.org/wiki/Python_Software_Foundation).\n",
        "\n",
        "![green-divider](https://user-images.githubusercontent.com/7065401/52071924-c003ad80-2562-11e9-8297-1c6595f8a7ff.png)\n",
        "\n",
        "## Python 3 vs Python 2\n",
        "\n",
        "You might have heard that there are two main versions of Python around: _Python 2_ and _Python 3_. Well, I'll keep it simple for you:\n",
        "\n",
        "### 👍 Python 3: YES!\n",
        "### 🙅 Python 2: NO!\n",
        "\n",
        "Python 2 [will be deprecated in 2020](https://pythonclock.org/). So **stick to Python 3**, it's the present and the future of the language (at least until we start planning Python 4 😅, just kidding).\n",
        "\n",
        "## A quick note about different \"implementations\"\n",
        "\n",
        "Finally, all what I'm saying here technically applies to \"CPython\", Python's main _implementation_. Don't worry if this doesn't make sense. It's just for the curious ones. If you're interested, we've written an entire post about it: [A quick guide about Python implementations](https://blog.rmotr.com/a-quick-guide-about-python-implementations-aa224109f321).\n",
        "\n",
        "![green-divider](https://user-images.githubusercontent.com/7065401/52071924-c003ad80-2562-11e9-8297-1c6595f8a7ff.png)\n",
        "\n",
        "# Syntax Overview\n",
        "\n",
        "The following paragraphs will be dedicated to Python's syntax and technical details. There are more to Python than just syntax, as its community, events, email lists, etc. But after all, this is just a technical introduction.\n",
        "\n",
        "### Indentation based\n",
        "\n",
        "This might feel weird at first, but in Python we do NOT use curly braces to denote blocks of code. We use _\"indentation\"_ instead. This is similar to Ruby. For example, this is a very simple `add_numbers` function in javascript:\n",
        "\n",
        "```javascript\n",
        "function add_numbers(x, y){\n",
        "    return x + y\n",
        "}\n",
        "```\n",
        "\n",
        "In Python, we'd write it in this way:"
      ]
    },
    {
      "cell_type": "code",
      "execution_count": null,
      "metadata": {
        "id": "ptoEtFQDU-2O"
      },
      "outputs": [],
      "source": [
        "def add_numbers(x, y):\n",
        "    return x + y"
      ]
    },
    {
      "cell_type": "markdown",
      "metadata": {
        "id": "ZwbetOc0U-2Q"
      },
      "source": [
        "An `if-else` block in Javascript:\n",
        "\n",
        "```javascript\n",
        "let language = \"Python\"\n",
        "\n",
        "if (language === \"Python\"){\n",
        "    console.log(\"Let the fun begin\");\n",
        "} else {\n",
        "    console.log(\"You sure?\");\n",
        "}\n",
        "```\n",
        "\n",
        "In Python:"
      ]
    },
    {
      "cell_type": "code",
      "execution_count": null,
      "metadata": {
        "id": "8ZCXdbRZU-2R"
      },
      "outputs": [],
      "source": [
        "# try changing \"Python\" to something else.\n",
        "# Don't remove the quotes.\n",
        "language = \"Python\"\n",
        "\n",
        "if language == \"Python\":\n",
        "    print(\"Let the fun begin!\")\n",
        "else:\n",
        "    print(\"You sure?\")"
      ]
    },
    {
      "cell_type": "markdown",
      "metadata": {
        "id": "Rtd3oZk2U-2R"
      },
      "source": [
        "![green-divider](https://user-images.githubusercontent.com/7065401/52071924-c003ad80-2562-11e9-8297-1c6595f8a7ff.png)\n",
        "\n",
        "### Comments\n",
        "\n",
        "You've seen comments in the previous block of code: they're prefixed with a pound/hashtag sign:"
      ]
    },
    {
      "cell_type": "code",
      "execution_count": null,
      "metadata": {
        "id": "WY0gNoKgU-2S"
      },
      "outputs": [],
      "source": [
        "# this is a comment"
      ]
    },
    {
      "cell_type": "code",
      "execution_count": null,
      "metadata": {
        "id": "Y7bGE8P2U-2S"
      },
      "outputs": [],
      "source": [
        "# it doesn't produce any output"
      ]
    },
    {
      "cell_type": "code",
      "execution_count": null,
      "metadata": {
        "id": "QqbVmC6sU-2T"
      },
      "outputs": [],
      "source": [
        "# can be above...\n",
        "print(\"Hello World\")  # next to...\n",
        "# or below your code"
      ]
    },
    {
      "cell_type": "markdown",
      "metadata": {
        "id": "xGgzuwlLU-2U"
      },
      "source": [
        "![green-divider](https://user-images.githubusercontent.com/7065401/52071924-c003ad80-2562-11e9-8297-1c6595f8a7ff.png)\n",
        "\n",
        "### Variables\n",
        "\n",
        "We've defined a variable `language` in one of our previous examples. In Python, you can set a variable at any time, in any block of code, by just assigning a valid name to any value you want:"
      ]
    },
    {
      "cell_type": "code",
      "execution_count": null,
      "metadata": {
        "id": "dJ8WISKEU-2U"
      },
      "outputs": [],
      "source": [
        "name = \"Mary\"\n",
        "print(name)"
      ]
    },
    {
      "cell_type": "code",
      "execution_count": null,
      "metadata": {
        "id": "AYYBCKv1U-2V"
      },
      "outputs": [],
      "source": [
        "age = 30\n",
        "print(age)"
      ]
    },
    {
      "cell_type": "markdown",
      "metadata": {
        "id": "tmvSJ6H1U-2V"
      },
      "source": [
        "Variables, once set, will be preserved:"
      ]
    },
    {
      "cell_type": "code",
      "execution_count": null,
      "metadata": {
        "id": "E7Xd5IrMU-2W"
      },
      "outputs": [],
      "source": [
        "print(name, \"is\", age, \"years old\")"
      ]
    },
    {
      "cell_type": "markdown",
      "metadata": {
        "id": "6swhYxbyU-2W"
      },
      "source": [
        "![green-divider](https://user-images.githubusercontent.com/7065401/52071924-c003ad80-2562-11e9-8297-1c6595f8a7ff.png)\n",
        "\n",
        "### Data Types\n",
        "\n",
        "Python supports the most common data types, the usual suspects we could say:\n",
        "\n",
        "#### Integers, type `int`:\n",
        "\n",
        "Integers have unlimited magnitude."
      ]
    },
    {
      "cell_type": "code",
      "execution_count": null,
      "metadata": {
        "id": "Zwiicti2U-2X"
      },
      "outputs": [],
      "source": [
        "# an int\n",
        "age = 30"
      ]
    },
    {
      "cell_type": "code",
      "execution_count": null,
      "metadata": {
        "id": "KwjzhpD2U-2X"
      },
      "outputs": [],
      "source": [
        "age"
      ]
    },
    {
      "cell_type": "code",
      "execution_count": null,
      "metadata": {
        "id": "244KIcHgU-2Y"
      },
      "outputs": [],
      "source": [
        "type(age)"
      ]
    },
    {
      "cell_type": "markdown",
      "metadata": {
        "id": "2w0S2yj5U-2Y"
      },
      "source": [
        "#### Floats, type `float`:\n",
        "\n",
        "The standard floating point number"
      ]
    },
    {
      "cell_type": "code",
      "execution_count": null,
      "metadata": {
        "id": "2OXb0jcUU-2Z"
      },
      "outputs": [],
      "source": [
        "# a float\n",
        "price = 2.50"
      ]
    },
    {
      "cell_type": "code",
      "execution_count": null,
      "metadata": {
        "id": "gQCGyTvMU-2Z"
      },
      "outputs": [],
      "source": [
        "price"
      ]
    },
    {
      "cell_type": "code",
      "execution_count": null,
      "metadata": {
        "id": "xk-eHlORU-2a"
      },
      "outputs": [],
      "source": [
        "type(price)"
      ]
    },
    {
      "cell_type": "markdown",
      "metadata": {
        "id": "VWW3E6YvU-2a"
      },
      "source": [
        "Remember that floats sometimes exhibit \"extraneous\" behavior:"
      ]
    },
    {
      "cell_type": "code",
      "execution_count": null,
      "metadata": {
        "id": "NpJJfnJHU-2a"
      },
      "outputs": [],
      "source": [
        "0.1 * 3"
      ]
    },
    {
      "cell_type": "markdown",
      "metadata": {
        "id": "1Ul5yH0DU-2b"
      },
      "source": [
        "If you need decimal fixed point precision, you can use the [`decimal`](https://docs.python.org/3/library/decimal.html#module-decimal) module:"
      ]
    },
    {
      "cell_type": "code",
      "execution_count": null,
      "metadata": {
        "id": "DMXQVrStU-2b"
      },
      "outputs": [],
      "source": [
        "from decimal import Decimal"
      ]
    },
    {
      "cell_type": "code",
      "execution_count": null,
      "metadata": {
        "id": "0j5sT2KNU-2b"
      },
      "outputs": [],
      "source": [
        "Decimal('0.1') * 3"
      ]
    },
    {
      "cell_type": "markdown",
      "metadata": {
        "id": "yPojYSHbU-2c"
      },
      "source": [
        "#### Strings, type `str`\n",
        "\n",
        "Strings are used to store text. Technically, they're _\"immutable sequences of Unicode code points\"_. Which means that Python supports Unicode:"
      ]
    },
    {
      "cell_type": "code",
      "execution_count": null,
      "metadata": {
        "id": "a1QKYopwU-2c"
      },
      "outputs": [],
      "source": [
        "# Create them with double quotes:\n",
        "print(\"Hello unicode 👋\")"
      ]
    },
    {
      "cell_type": "code",
      "execution_count": null,
      "metadata": {
        "id": "XeMVqouyU-2d"
      },
      "outputs": [],
      "source": [
        "# single quotes:\n",
        "print('Omelette Du Fromage 🧀')"
      ]
    },
    {
      "cell_type": "code",
      "execution_count": null,
      "metadata": {
        "id": "4Oz8ByfFU-2d"
      },
      "outputs": [],
      "source": [
        "type('Hello World')"
      ]
    },
    {
      "cell_type": "code",
      "execution_count": null,
      "metadata": {
        "id": "DjoeLI7xU-2d"
      },
      "outputs": [],
      "source": [
        "len(\"Hello\")"
      ]
    },
    {
      "cell_type": "markdown",
      "metadata": {
        "id": "Od5T4gKNU-2e"
      },
      "source": [
        "You can use double or single quotes, it's the same. We also have \"multi-line\" strings, that are created with a pair of 3 quotes (simple or double, either works):"
      ]
    },
    {
      "cell_type": "code",
      "execution_count": null,
      "metadata": {
        "id": "2hdoGcC0U-2e"
      },
      "outputs": [],
      "source": [
        "joke = \"\"\"\n",
        "Me: What’s the best thing about Switzerland?\n",
        "Friend: I don't know. What?\n",
        "Me: I don’t know, but the flag is a big plus.\n",
        "F: 😒\n",
        "\"\"\"\n",
        "\n",
        "print(joke)"
      ]
    },
    {
      "cell_type": "markdown",
      "metadata": {
        "id": "VyyHYlGbU-2e"
      },
      "source": [
        "#### Booleans, type `bool`\n",
        "\n",
        "Python booleans are as simple as they get: `True` and `False`, **capitalized**."
      ]
    },
    {
      "cell_type": "code",
      "execution_count": null,
      "metadata": {
        "id": "hT2705W6U-2e"
      },
      "outputs": [],
      "source": [
        "True"
      ]
    },
    {
      "cell_type": "code",
      "execution_count": null,
      "metadata": {
        "id": "EkSbEcTkU-2f"
      },
      "outputs": [],
      "source": [
        "type(False)"
      ]
    },
    {
      "cell_type": "markdown",
      "metadata": {
        "id": "4YEHwqd1U-2f"
      },
      "source": [
        "#### None, type `NoneType`\n",
        "\n",
        "As other languages have `null`, in Python we have `None`, which pretty much represents the absence of value:"
      ]
    },
    {
      "cell_type": "code",
      "execution_count": null,
      "metadata": {
        "id": "yk7LKMfsU-2f"
      },
      "outputs": [],
      "source": [
        "x = None"
      ]
    },
    {
      "cell_type": "code",
      "execution_count": null,
      "metadata": {
        "id": "Bwz0SEIFU-2g"
      },
      "outputs": [],
      "source": [
        "x"
      ]
    },
    {
      "cell_type": "code",
      "execution_count": null,
      "metadata": {
        "id": "5f4fDIFwU-2g"
      },
      "outputs": [],
      "source": [
        "print(x)"
      ]
    },
    {
      "cell_type": "code",
      "execution_count": null,
      "metadata": {
        "id": "4mv8KRr2U-2g"
      },
      "outputs": [],
      "source": [
        "type(None)"
      ]
    },
    {
      "cell_type": "markdown",
      "metadata": {
        "id": "sygHorhvU-2g"
      },
      "source": [
        "![green-divider](https://user-images.githubusercontent.com/7065401/52071924-c003ad80-2562-11e9-8297-1c6595f8a7ff.png)\n",
        "\n",
        "### `int`, `float`, `str` and `bool` objects and functions\n",
        "\n",
        "You'll often see some of these _\"keywords/names\"_ used both as functions and as individual objects. When used as functions, their usage is to transform/cast objects into its corresponding type. Example:"
      ]
    },
    {
      "cell_type": "code",
      "execution_count": null,
      "metadata": {
        "id": "7O0g4X65U-2h"
      },
      "outputs": [],
      "source": [
        "age_as_string = \"28\""
      ]
    },
    {
      "cell_type": "code",
      "execution_count": null,
      "metadata": {
        "id": "hmtdlv3cU-2h"
      },
      "outputs": [],
      "source": [
        "type(age_as_string)"
      ]
    },
    {
      "cell_type": "code",
      "execution_count": null,
      "metadata": {
        "id": "4DszVB0gU-2h"
      },
      "outputs": [],
      "source": [
        "int(age_as_string)"
      ]
    },
    {
      "cell_type": "code",
      "execution_count": null,
      "metadata": {
        "id": "wFkHqPEzU-2h"
      },
      "outputs": [],
      "source": [
        "age = int(age_as_string)"
      ]
    },
    {
      "cell_type": "code",
      "execution_count": null,
      "metadata": {
        "id": "uhjXsh4ZU-2h"
      },
      "outputs": [],
      "source": [
        "type(age)"
      ]
    },
    {
      "cell_type": "markdown",
      "metadata": {
        "id": "9dnhfHLxU-2i"
      },
      "source": [
        "Their use as objects is mainly associated with their type:"
      ]
    },
    {
      "cell_type": "code",
      "execution_count": null,
      "metadata": {
        "id": "XG8qkctgU-2i"
      },
      "outputs": [],
      "source": [
        "type(13) == int"
      ]
    },
    {
      "cell_type": "markdown",
      "metadata": {
        "id": "svFldSGnU-2i"
      },
      "source": [
        "![green-divider](https://user-images.githubusercontent.com/7065401/52071924-c003ad80-2562-11e9-8297-1c6595f8a7ff.png)\n",
        "\n",
        "### Functions\n",
        "\n",
        "We've seen a couple of functions defined already, but let's dig a little bit deeper. Functions in Python are very intuitive. Let's start with an example of a function without parameters:"
      ]
    },
    {
      "cell_type": "code",
      "execution_count": null,
      "metadata": {
        "id": "pYSV_RjSU-2i"
      },
      "outputs": [],
      "source": [
        "def hello():\n",
        "    return \"Hello World\""
      ]
    },
    {
      "cell_type": "markdown",
      "metadata": {
        "id": "4aCbwEK5U-2i"
      },
      "source": [
        "The `def` keyword indicate the _definition_ of a function, followed by a name and a list of arguments (which this function doesn't receive). The `return` statement is used to break the flow of the function and return a value back to the caller:"
      ]
    },
    {
      "cell_type": "code",
      "execution_count": null,
      "metadata": {
        "id": "Y0cveouTU-2j"
      },
      "outputs": [],
      "source": [
        "result = hello()"
      ]
    },
    {
      "cell_type": "code",
      "execution_count": null,
      "metadata": {
        "id": "QL3i7W1tU-2j"
      },
      "outputs": [],
      "source": [
        "result"
      ]
    },
    {
      "cell_type": "markdown",
      "metadata": {
        "id": "YyCwEutdU-2j"
      },
      "source": [
        "If a function doesn't explicitly include a `return` statement, Python will return `None` by default:"
      ]
    },
    {
      "cell_type": "code",
      "execution_count": null,
      "metadata": {
        "id": "YqIZST_3U-2k"
      },
      "outputs": [],
      "source": [
        "def empty():\n",
        "    x = 3"
      ]
    },
    {
      "cell_type": "code",
      "execution_count": null,
      "metadata": {
        "id": "tYFBGU2iU-2k"
      },
      "outputs": [],
      "source": [
        "result = empty()"
      ]
    },
    {
      "cell_type": "code",
      "execution_count": null,
      "metadata": {
        "id": "LlEZF-IpU-2l"
      },
      "outputs": [],
      "source": [
        "print(result)"
      ]
    },
    {
      "cell_type": "markdown",
      "metadata": {
        "id": "_F5C3Y-EU-2l"
      },
      "source": [
        "#### Receiving parameters\n",
        "\n",
        "There's a lot that can be done with Python parameters; including default and named parameters, and even variable/dynamic ones. But for now, we'll just focus on the basics. Function parameters are listed at the function definition, and they're part of the function's local scope:"
      ]
    },
    {
      "cell_type": "code",
      "execution_count": null,
      "metadata": {
        "id": "15qjd6u6U-2l"
      },
      "outputs": [],
      "source": [
        "def add(x, y):\n",
        "    return x + y"
      ]
    },
    {
      "cell_type": "code",
      "execution_count": null,
      "metadata": {
        "id": "eiNIlJ1xU-2m"
      },
      "outputs": [],
      "source": [
        "add(2, 3)"
      ]
    },
    {
      "cell_type": "markdown",
      "metadata": {
        "id": "4xDXurInU-2m"
      },
      "source": [
        "We can also define functions that accept variable number of arguments, using the star args `*`:"
      ]
    },
    {
      "cell_type": "code",
      "execution_count": null,
      "metadata": {
        "id": "IL-9gtzEU-2m"
      },
      "outputs": [],
      "source": [
        "def add(*args):\n",
        "    return sum(args)"
      ]
    },
    {
      "cell_type": "code",
      "execution_count": null,
      "metadata": {
        "id": "jmz2QM6EU-2m"
      },
      "outputs": [],
      "source": [
        "add(1, 1, 1)"
      ]
    },
    {
      "cell_type": "code",
      "execution_count": null,
      "metadata": {
        "id": "Zyh7XcdDU-2n"
      },
      "outputs": [],
      "source": [
        "add(1)"
      ]
    },
    {
      "cell_type": "markdown",
      "metadata": {
        "id": "Xdr9kYpbU-2n"
      },
      "source": [
        "![green-divider](https://user-images.githubusercontent.com/7065401/52071924-c003ad80-2562-11e9-8297-1c6595f8a7ff.png)\n",
        "\n",
        "### Operators\n",
        "\n",
        "Both arithmetic and boolean operators are available, for example:\n",
        "\n",
        "#### Arithmetic operators"
      ]
    },
    {
      "cell_type": "code",
      "execution_count": null,
      "metadata": {
        "id": "cuK6W4JqU-2n"
      },
      "outputs": [],
      "source": [
        "3 + 3"
      ]
    },
    {
      "cell_type": "code",
      "execution_count": null,
      "metadata": {
        "id": "jWYRdz5_U-2o"
      },
      "outputs": [],
      "source": [
        "11 % 7"
      ]
    },
    {
      "cell_type": "code",
      "execution_count": null,
      "metadata": {
        "id": "N6OONDXeU-2o"
      },
      "outputs": [],
      "source": [
        "2 ** 4"
      ]
    },
    {
      "cell_type": "markdown",
      "metadata": {
        "id": "nvPnxEgKU-2o"
      },
      "source": [
        "Precedence can be consulted on [the official docs](https://docs.python.org/3/reference/expressions.html#operator-precedence). But, for the most part, the precedence is similar to the usual in arithmetic:"
      ]
    },
    {
      "cell_type": "code",
      "execution_count": null,
      "metadata": {
        "id": "yf-CYOU7U-2o"
      },
      "outputs": [],
      "source": [
        "3 + 4 * 5"
      ]
    },
    {
      "cell_type": "code",
      "execution_count": null,
      "metadata": {
        "id": "jJKr3BKcU-2p"
      },
      "outputs": [],
      "source": [
        "3 + 4 * 2**3"
      ]
    },
    {
      "cell_type": "markdown",
      "metadata": {
        "id": "B7OA9FtKU-2p"
      },
      "source": [
        "#### Boolean operators\n",
        "\n",
        "Regular comparison operators are available:"
      ]
    },
    {
      "cell_type": "code",
      "execution_count": null,
      "metadata": {
        "id": "KNtvDkLzU-2p"
      },
      "outputs": [],
      "source": [
        "7 > 3"
      ]
    },
    {
      "cell_type": "code",
      "execution_count": null,
      "metadata": {
        "id": "_j-gOJ0DU-2p"
      },
      "outputs": [],
      "source": [
        "8 >= 8"
      ]
    },
    {
      "cell_type": "markdown",
      "metadata": {
        "id": "JwWqDE_DU-2p"
      },
      "source": [
        "We said that Python is strongly typed, so comparison between different types will fail if these types are not compatible:"
      ]
    },
    {
      "cell_type": "code",
      "execution_count": null,
      "metadata": {
        "id": "KpsetZjKU-2q"
      },
      "outputs": [],
      "source": [
        "8 > \"abc\""
      ]
    },
    {
      "cell_type": "markdown",
      "metadata": {
        "id": "Xp17IuM7U-2q"
      },
      "source": [
        "Python also has other common boolean operators like `and`, `or`, `not`, etc. They are short circuited, as most modern programming languages:"
      ]
    },
    {
      "cell_type": "code",
      "execution_count": null,
      "metadata": {
        "id": "W1wZFa_IU-2q"
      },
      "outputs": [],
      "source": [
        "True and True"
      ]
    },
    {
      "cell_type": "code",
      "execution_count": null,
      "metadata": {
        "id": "YL12F3SpU-2q"
      },
      "outputs": [],
      "source": [
        "not False"
      ]
    },
    {
      "cell_type": "code",
      "execution_count": null,
      "metadata": {
        "id": "2LqnWxA8U-2r"
      },
      "outputs": [],
      "source": [
        "False or True"
      ]
    },
    {
      "cell_type": "markdown",
      "metadata": {
        "id": "pe_SPQ4VU-2r"
      },
      "source": [
        "![green-divider](https://user-images.githubusercontent.com/7065401/52071924-c003ad80-2562-11e9-8297-1c6595f8a7ff.png)\n",
        "\n",
        "### Control Flow\n",
        "\n",
        "Python supports the most common control flow blocks. Keep in mind they're defined with indentation.\n",
        "\n",
        "#### If/else/elif statements"
      ]
    },
    {
      "cell_type": "code",
      "execution_count": null,
      "metadata": {
        "id": "XxoulppLU-2r"
      },
      "outputs": [],
      "source": [
        "days_subscribed = 28"
      ]
    },
    {
      "cell_type": "code",
      "execution_count": null,
      "metadata": {
        "id": "N52PGINTU-2r"
      },
      "outputs": [],
      "source": [
        "if days_subscribed >= 30:\n",
        "    print(\"Loyal customer\")\n",
        "elif days_subscribed >= 15:\n",
        "    print(\"Halfway there\")\n",
        "elif days_subscribed >= 1:\n",
        "    print(\"Building confidence\")\n",
        "else:\n",
        "    print(\"Too early\")"
      ]
    },
    {
      "cell_type": "markdown",
      "metadata": {
        "id": "5R1mRBbLU-2s"
      },
      "source": [
        "#### For loops\n",
        "\n",
        "For loops in Python are different than other languages, specially those C/Java-inspired languages. In Python, `for` loops are designed to iterate over collections (we'll see collections later). But keep that in mind."
      ]
    },
    {
      "cell_type": "code",
      "execution_count": null,
      "metadata": {
        "id": "QggxTnYSU-2s"
      },
      "outputs": [],
      "source": [
        "names = ['Monica', 'Ross', 'Chandler', 'Joey', 'Rachel']"
      ]
    },
    {
      "cell_type": "code",
      "execution_count": null,
      "metadata": {
        "id": "EAYE_oBuU-2s"
      },
      "outputs": [],
      "source": [
        "for name in names:\n",
        "    print(name)"
      ]
    },
    {
      "cell_type": "markdown",
      "metadata": {
        "id": "3kvcDYtiU-2s"
      },
      "source": [
        "#### While loops\n",
        "\n",
        "While loops are seldom used in Python. For loops are the preferred choice 99% of the time. Still, they're available and are useful for some situations:"
      ]
    },
    {
      "cell_type": "code",
      "execution_count": null,
      "metadata": {
        "id": "-5KzYIe1U-2t"
      },
      "outputs": [],
      "source": [
        "count = 0"
      ]
    },
    {
      "cell_type": "code",
      "execution_count": null,
      "metadata": {
        "id": "Vsv5HKw3U-2t"
      },
      "outputs": [],
      "source": [
        "while count < 3:\n",
        "    print(\"Counting...\")\n",
        "    count += 1"
      ]
    },
    {
      "cell_type": "markdown",
      "metadata": {
        "id": "kO4xvP7QU-2t"
      },
      "source": [
        "There's another block to mention, `try/except`, but it's in the **_Exceptions_** section."
      ]
    },
    {
      "cell_type": "markdown",
      "metadata": {
        "id": "00HYnByCU-2t"
      },
      "source": [
        "![green-divider](https://user-images.githubusercontent.com/7065401/52071924-c003ad80-2562-11e9-8297-1c6595f8a7ff.png)\n",
        "\n",
        "### Collections\n",
        "\n",
        "Python has multiple versatile collection types, each with different features and capabilities. These are the most common collections we'll explore:\n",
        "\n",
        "* Lists\n",
        "* Tuples\n",
        "* Dictionaries\n",
        "* Sets\n",
        "\n",
        "Even though they all have different capabilities, there is one common property to all of them, and it's that Python collections are heterogeneous, that is, you can mix multiple types. That **doesn't mean we should** mix types, usually it's better to have a consistent collection. But it's still possible.\n",
        "\n",
        "#### Lists\n",
        "\n",
        "Lists are mutable, ordered sequences. We could argue, the most common collection type."
      ]
    },
    {
      "cell_type": "code",
      "execution_count": null,
      "metadata": {
        "id": "8Nd6BoVlU-2u"
      },
      "outputs": [],
      "source": [
        "l = [3, 'Hello World', True]"
      ]
    },
    {
      "cell_type": "code",
      "execution_count": null,
      "metadata": {
        "id": "RDh5jJL0U-2u"
      },
      "outputs": [],
      "source": [
        "len(l)"
      ]
    },
    {
      "cell_type": "markdown",
      "metadata": {
        "id": "A1zvR2RIU-2u"
      },
      "source": [
        "List elements are accessed using sequential indices (starting from `0`):"
      ]
    },
    {
      "cell_type": "code",
      "execution_count": null,
      "metadata": {
        "id": "SEN_6NZ8U-2v"
      },
      "outputs": [],
      "source": [
        "l[0]"
      ]
    },
    {
      "cell_type": "code",
      "execution_count": null,
      "metadata": {
        "id": "JtYzxEFxU-2v"
      },
      "outputs": [],
      "source": [
        "l[1]"
      ]
    },
    {
      "cell_type": "markdown",
      "metadata": {
        "id": "H15dKQxMU-2v"
      },
      "source": [
        "Negative indices are also supported:"
      ]
    },
    {
      "cell_type": "code",
      "execution_count": null,
      "metadata": {
        "id": "15NT-ah2U-2w"
      },
      "outputs": [],
      "source": [
        "l[-1]"
      ]
    },
    {
      "cell_type": "code",
      "execution_count": null,
      "metadata": {
        "id": "Ezu1pgRyU-2w"
      },
      "outputs": [],
      "source": [
        "l[-2]"
      ]
    },
    {
      "cell_type": "markdown",
      "metadata": {
        "id": "0dB3xt8QU-2x"
      },
      "source": [
        "Lists have many useful methods to add/remove elements:"
      ]
    },
    {
      "cell_type": "code",
      "execution_count": null,
      "metadata": {
        "id": "5Gz59TWdU-2x"
      },
      "outputs": [],
      "source": [
        "l.append('Python 🐍')"
      ]
    },
    {
      "cell_type": "code",
      "execution_count": null,
      "metadata": {
        "id": "brWw_lEXU-2y"
      },
      "outputs": [],
      "source": [
        "l"
      ]
    },
    {
      "cell_type": "code",
      "execution_count": null,
      "metadata": {
        "id": "Tjoin8_bU-2y"
      },
      "outputs": [],
      "source": [
        "'Python 🐍' in l"
      ]
    },
    {
      "cell_type": "code",
      "execution_count": null,
      "metadata": {
        "id": "3lAHVtZSU-2y"
      },
      "outputs": [],
      "source": [
        "'Ruby ♦️' in l"
      ]
    },
    {
      "cell_type": "markdown",
      "metadata": {
        "id": "MyyC96f3U-2z"
      },
      "source": [
        "#### Tuples\n",
        "\n",
        "Tuples are very similar to lists, but with a huge difference: **they're immutable**. That means, once a tuple is created, it can't be further modified:"
      ]
    },
    {
      "cell_type": "code",
      "execution_count": null,
      "metadata": {
        "id": "cWeLCILKU-2z"
      },
      "outputs": [],
      "source": [
        "t = (3, 'Hello World', True)"
      ]
    },
    {
      "cell_type": "markdown",
      "metadata": {
        "id": "ITGPJe1YU-20"
      },
      "source": [
        "Indexing them works in the same way:"
      ]
    },
    {
      "cell_type": "code",
      "execution_count": null,
      "metadata": {
        "id": "mCdXwtMkU-20"
      },
      "outputs": [],
      "source": [
        "t[0]"
      ]
    },
    {
      "cell_type": "code",
      "execution_count": null,
      "metadata": {
        "id": "pzxSdKazU-21"
      },
      "outputs": [],
      "source": [
        "t[-1]"
      ]
    },
    {
      "cell_type": "code",
      "execution_count": null,
      "metadata": {
        "id": "Q4s9YLZbU-21"
      },
      "outputs": [],
      "source": [
        "'Hello World' in t"
      ]
    },
    {
      "cell_type": "markdown",
      "metadata": {
        "id": "wm3vobiTU-22"
      },
      "source": [
        "But there's no way of modifying them."
      ]
    },
    {
      "cell_type": "markdown",
      "metadata": {
        "id": "lUfL55X6U-22"
      },
      "source": [
        "#### Dictionaries\n",
        "\n",
        "Dictionaries are map-like collections that store values under a user-defined key. The key must be an immutable object; we usually employ strings for keys. Dictionaries are mutable, and more importantly, **unordered**."
      ]
    },
    {
      "cell_type": "code",
      "execution_count": null,
      "metadata": {
        "id": "0YwJjGcWU-23"
      },
      "outputs": [],
      "source": [
        "user = {\n",
        "    \"name\": \"Mary Smith\",\n",
        "    \"email\": \"mary@example.com\",\n",
        "    \"age\": 30,\n",
        "    \"subscribed\": True\n",
        "}"
      ]
    },
    {
      "cell_type": "code",
      "execution_count": null,
      "metadata": {
        "id": "u1NpuNY1U-23"
      },
      "outputs": [],
      "source": [
        "user"
      ]
    },
    {
      "cell_type": "markdown",
      "metadata": {
        "id": "76NpnR1mU-24"
      },
      "source": [
        "Access is by key, also using square brackets:"
      ]
    },
    {
      "cell_type": "code",
      "execution_count": null,
      "metadata": {
        "id": "iv35Y_jvU-25"
      },
      "outputs": [],
      "source": [
        "user['email']"
      ]
    },
    {
      "cell_type": "code",
      "execution_count": null,
      "metadata": {
        "id": "5kNymKCHU-26"
      },
      "outputs": [],
      "source": [
        "'age' in user"
      ]
    },
    {
      "cell_type": "code",
      "execution_count": null,
      "metadata": {
        "id": "US36TYZxU-27"
      },
      "outputs": [],
      "source": [
        "'last_name' in user"
      ]
    },
    {
      "cell_type": "markdown",
      "metadata": {
        "id": "gWYCwm4-U-27"
      },
      "source": [
        "#### Sets\n",
        "\n",
        "Sets are unordered collection which the unique characteristic that they only contain unique elements:"
      ]
    },
    {
      "cell_type": "code",
      "execution_count": null,
      "metadata": {
        "id": "CsQhrDa4U-28"
      },
      "outputs": [],
      "source": [
        "s = {3, 1, 3, 7, 9, 1, 3, 1}"
      ]
    },
    {
      "cell_type": "code",
      "execution_count": null,
      "metadata": {
        "id": "hXJXu0o_U-28"
      },
      "outputs": [],
      "source": [
        "s"
      ]
    },
    {
      "cell_type": "markdown",
      "metadata": {
        "id": "3NlUT6NHU-28"
      },
      "source": [
        "Adding elements is done with the `add` method:"
      ]
    },
    {
      "cell_type": "code",
      "execution_count": null,
      "metadata": {
        "id": "mnkumHfnU-29"
      },
      "outputs": [],
      "source": [
        "s.add(10)"
      ]
    },
    {
      "cell_type": "markdown",
      "metadata": {
        "id": "rEfca8OUU-29"
      },
      "source": [
        "Removing elements can be done with `pop()`:"
      ]
    },
    {
      "cell_type": "code",
      "execution_count": null,
      "metadata": {
        "id": "gp5xS8e6U-2-"
      },
      "outputs": [],
      "source": [
        "s.pop()"
      ]
    },
    {
      "cell_type": "markdown",
      "metadata": {
        "id": "u74E6lB3U-2-"
      },
      "source": [
        "![green-divider](https://user-images.githubusercontent.com/7065401/52071924-c003ad80-2562-11e9-8297-1c6595f8a7ff.png)\n",
        "\n",
        "### Iterating collections\n",
        "\n",
        "As mentioned in the control flow section, Python's `for` loop is specially designed to iterate over collections:"
      ]
    },
    {
      "cell_type": "code",
      "execution_count": null,
      "metadata": {
        "id": "NyGokfI7U-2_"
      },
      "outputs": [],
      "source": [
        "l = [3, 'Hello World', True]"
      ]
    },
    {
      "cell_type": "code",
      "execution_count": null,
      "metadata": {
        "id": "Odm93yUOU-3A"
      },
      "outputs": [],
      "source": [
        "for elem in l:\n",
        "    print(elem)"
      ]
    },
    {
      "cell_type": "code",
      "execution_count": null,
      "metadata": {
        "id": "ZEZaGzvKU-3A"
      },
      "outputs": [],
      "source": [
        "for key in user:\n",
        "    print(key.title(), '=>', user[key])"
      ]
    },
    {
      "cell_type": "markdown",
      "metadata": {
        "id": "_hboxOcQU-3B"
      },
      "source": [
        "![green-divider](https://user-images.githubusercontent.com/7065401/52071924-c003ad80-2562-11e9-8297-1c6595f8a7ff.png)\n",
        "\n",
        "### Modules\n",
        "\n",
        "One of the best features of Python as a language, is its rich builtin library. To use external modules, you must first import them:"
      ]
    },
    {
      "cell_type": "code",
      "execution_count": null,
      "metadata": {
        "id": "IdVHWbWkU-3B"
      },
      "outputs": [],
      "source": [
        "import random"
      ]
    },
    {
      "cell_type": "code",
      "execution_count": null,
      "metadata": {
        "id": "V0tVPWDUU-3C"
      },
      "outputs": [],
      "source": [
        "random.randint(0, 99)"
      ]
    },
    {
      "cell_type": "markdown",
      "metadata": {
        "id": "KEDAFGz3U-3C"
      },
      "source": [
        "![green-divider](https://user-images.githubusercontent.com/7065401/52071924-c003ad80-2562-11e9-8297-1c6595f8a7ff.png)\n",
        "\n",
        "### Exceptions\n",
        "\n",
        "Exceptions are raised at runtime when an abnormal situation is produced in your program. Exceptions can also be constructed and raised by your code. Example of an exception:"
      ]
    },
    {
      "cell_type": "code",
      "execution_count": null,
      "metadata": {
        "id": "k22NXV6VU-3D"
      },
      "outputs": [],
      "source": [
        "age = \"30\""
      ]
    },
    {
      "cell_type": "code",
      "execution_count": null,
      "metadata": {
        "id": "ILBcDckYU-3D"
      },
      "outputs": [],
      "source": [
        "if age > 21:\n",
        "    print(\"Allowed entrance\")"
      ]
    },
    {
      "cell_type": "markdown",
      "metadata": {
        "id": "dV5yv7IvU-3E"
      },
      "source": [
        "Exceptions can be handled at runtime with a `try/except` block:"
      ]
    },
    {
      "cell_type": "code",
      "execution_count": null,
      "metadata": {
        "id": "pmsya_6_U-3E"
      },
      "outputs": [],
      "source": [
        "try:\n",
        "    if age > 21:\n",
        "        print(\"Allowed entrance\")\n",
        "except:\n",
        "    print(\"Something went wrong\")"
      ]
    },
    {
      "cell_type": "markdown",
      "metadata": {
        "id": "xVf798ezU-3G"
      },
      "source": [
        "The `except` portion can receive also be parametrized with the expected exception:"
      ]
    },
    {
      "cell_type": "code",
      "execution_count": null,
      "metadata": {
        "id": "WPQdb2MRU-3H"
      },
      "outputs": [],
      "source": [
        "try:\n",
        "    if age > 21:\n",
        "        print(\"Allowed entrance\")\n",
        "except TypeError:\n",
        "    print(\"Age is probably of a wrong type\")"
      ]
    },
    {
      "cell_type": "markdown",
      "metadata": {
        "id": "i-rAHMhOU-3I"
      },
      "source": [
        "![green-divider](https://user-images.githubusercontent.com/7065401/52071924-c003ad80-2562-11e9-8297-1c6595f8a7ff.png)\n",
        "\n",
        "## We're just getting started\n",
        "\n",
        "As you can imagine, there's a lot more to add about such a versatile and powerful language as Python. We're still missing many important topics like _OOP_, _File Management_, _Networking_, _Concurrency_, etc.\n",
        "\n",
        "If you're eager to learn more about Python, we've compiled a list of [3 recommended free Python books](https://blog.rmotr.com/the-3-python-books-you-need-to-get-started-for-free-9b72a2c6fb17) to get started."
      ]
    },
    {
      "cell_type": "markdown",
      "metadata": {
        "id": "_ZCGvOeXU-3I"
      },
      "source": [
        "![purple-divider](https://user-images.githubusercontent.com/7065401/52071927-c1cd7100-2562-11e9-908a-dde91ba14e59.png)"
      ]
    }
  ],
  "metadata": {
    "kernelspec": {
      "display_name": "Python 3",
      "language": "python",
      "name": "python3"
    },
    "language_info": {
      "codemirror_mode": {
        "name": "ipython",
        "version": 3
      },
      "file_extension": ".py",
      "mimetype": "text/x-python",
      "name": "python",
      "nbconvert_exporter": "python",
      "pygments_lexer": "ipython3",
      "version": "3.6.8"
    },
    "colab": {
      "name": "Lecture.ipynb",
      "provenance": [],
      "include_colab_link": true
    }
  },
  "nbformat": 4,
  "nbformat_minor": 0
}